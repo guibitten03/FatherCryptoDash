{
 "cells": [
  {
   "cell_type": "code",
   "execution_count": 4,
   "metadata": {},
   "outputs": [],
   "source": [
    "from services.Coinmarketcap import CoinMarketCap\n",
    "from dotenv import dotenv_values\n",
    "import pprint\n",
    "import json"
   ]
  },
  {
   "cell_type": "code",
   "execution_count": 5,
   "metadata": {},
   "outputs": [],
   "source": [
    "config = dotenv_values('.env')\n",
    "cmc = CoinMarketCap(config.get(\"MARKET_CAP_AP_KEY\"))"
   ]
  },
  {
   "cell_type": "code",
   "execution_count": 13,
   "metadata": {},
   "outputs": [],
   "source": [
    "response = cmc.get_coin_price(coin='BTC')"
   ]
  },
  {
   "cell_type": "code",
   "execution_count": 20,
   "metadata": {},
   "outputs": [
    {
     "name": "stdout",
     "output_type": "stream",
     "text": [
      "65800.38146848558\n"
     ]
    }
   ],
   "source": [
    "pprint.pprint(json.loads(response)['data']['BTC'][0]['quote']['USD']['price'])"
   ]
  },
  {
   "cell_type": "code",
   "execution_count": 1,
   "metadata": {},
   "outputs": [],
   "source": [
    "from services.Database import Database"
   ]
  },
  {
   "cell_type": "code",
   "execution_count": 2,
   "metadata": {},
   "outputs": [
    {
     "name": "stderr",
     "output_type": "stream",
     "text": [
      "2024-06-06 08:48:32.330 \n",
      "  \u001b[33m\u001b[1mWarning:\u001b[0m to view this Streamlit app on a browser, run it with the following\n",
      "  command:\n",
      "\n",
      "    streamlit run /home/guilherme/.local/lib/python3.10/site-packages/ipykernel_launcher.py [ARGUMENTS]\n",
      "2024-06-06 08:48:32.372 No runtime found, using MemoryCacheStorageManager\n",
      "2024-06-06 08:48:32.374 No runtime found, using MemoryCacheStorageManager\n",
      "2024-06-06 08:48:34.276 No runtime found, using MemoryCacheStorageManager\n",
      "2024-06-06 08:48:35.266 No runtime found, using MemoryCacheStorageManager\n"
     ]
    }
   ],
   "source": [
    "database = Database(worksheets=[\n",
    "    (\"DATA\", 10),\n",
    "    (\"COINS\", 2),\n",
    "    (\"EXCHANGES\", 1)\n",
    "])"
   ]
  },
  {
   "cell_type": "code",
   "execution_count": 3,
   "metadata": {},
   "outputs": [],
   "source": [
    "register_sheet = database.worksheets[\"DATA\"].dropna(how=\"all\")\n",
    "coin_sheet = database.worksheets[\"COINS\"].dropna(how=\"all\")\n",
    "exchange_sheet = database.worksheets[\"EXCHANGES\"].dropna(how=\"all\")"
   ]
  },
  {
   "cell_type": "code",
   "execution_count": 5,
   "metadata": {},
   "outputs": [],
   "source": [
    "exchange_filtered = register_sheet[register_sheet['Exchange'] == 'Binance']"
   ]
  },
  {
   "cell_type": "code",
   "execution_count": 19,
   "metadata": {},
   "outputs": [],
   "source": [
    "coin_current_price = exchange_filtered[['Coin', 'Preço Atual (R$)']].drop_duplicates('Coin', keep='first')\n",
    "coin_current_price = {coin:price for coin, price in zip(coin_current_price['Coin'], coin_current_price['Preço Atual (R$)'])}"
   ]
  },
  {
   "cell_type": "code",
   "execution_count": 20,
   "metadata": {},
   "outputs": [],
   "source": [
    "coin_qte = {}"
   ]
  },
  {
   "cell_type": "code",
   "execution_count": 6,
   "metadata": {},
   "outputs": [
    {
     "data": {
      "text/html": [
       "<div>\n",
       "<style scoped>\n",
       "    .dataframe tbody tr th:only-of-type {\n",
       "        vertical-align: middle;\n",
       "    }\n",
       "\n",
       "    .dataframe tbody tr th {\n",
       "        vertical-align: top;\n",
       "    }\n",
       "\n",
       "    .dataframe thead th {\n",
       "        text-align: right;\n",
       "    }\n",
       "</style>\n",
       "<table border=\"1\" class=\"dataframe\">\n",
       "  <thead>\n",
       "    <tr style=\"text-align: right;\">\n",
       "      <th></th>\n",
       "      <th>Data</th>\n",
       "      <th>Coin</th>\n",
       "      <th>Preço (R$)</th>\n",
       "      <th>Preço (U$)</th>\n",
       "      <th>Preço Atual (R$)</th>\n",
       "      <th>Preço Atual (U$)</th>\n",
       "      <th>Valor Investido (R$)</th>\n",
       "      <th>Qte</th>\n",
       "      <th>Status</th>\n",
       "      <th>Exchange</th>\n",
       "    </tr>\n",
       "  </thead>\n",
       "  <tbody>\n",
       "    <tr>\n",
       "      <th>0</th>\n",
       "      <td>19/04/24</td>\n",
       "      <td>BTC</td>\n",
       "      <td>334250.0</td>\n",
       "      <td>66850.00</td>\n",
       "      <td>363457.044599</td>\n",
       "      <td>69895.585500</td>\n",
       "      <td>1000.0</td>\n",
       "      <td>0.002992</td>\n",
       "      <td>Buy</td>\n",
       "      <td>Binance</td>\n",
       "    </tr>\n",
       "    <tr>\n",
       "      <th>1</th>\n",
       "      <td>19/04/24</td>\n",
       "      <td>ETH</td>\n",
       "      <td>15760.0</td>\n",
       "      <td>3152.00</td>\n",
       "      <td>19686.267078</td>\n",
       "      <td>3785.820592</td>\n",
       "      <td>500.0</td>\n",
       "      <td>0.031726</td>\n",
       "      <td>Buy</td>\n",
       "      <td>Binance</td>\n",
       "    </tr>\n",
       "    <tr>\n",
       "      <th>2</th>\n",
       "      <td>19/04/24</td>\n",
       "      <td>MATIC</td>\n",
       "      <td>4.6</td>\n",
       "      <td>0.92</td>\n",
       "      <td>3.696202</td>\n",
       "      <td>0.710808</td>\n",
       "      <td>1500.0</td>\n",
       "      <td>326.086957</td>\n",
       "      <td>Buy</td>\n",
       "      <td>Binance</td>\n",
       "    </tr>\n",
       "    <tr>\n",
       "      <th>3</th>\n",
       "      <td>19/04/24</td>\n",
       "      <td>SOL</td>\n",
       "      <td>677.1</td>\n",
       "      <td>135.42</td>\n",
       "      <td>865.051094</td>\n",
       "      <td>166.355980</td>\n",
       "      <td>250.0</td>\n",
       "      <td>0.369222</td>\n",
       "      <td>Buy</td>\n",
       "      <td>Binance</td>\n",
       "    </tr>\n",
       "    <tr>\n",
       "      <th>4</th>\n",
       "      <td>19/04/24</td>\n",
       "      <td>LINK</td>\n",
       "      <td>66.7</td>\n",
       "      <td>13.34</td>\n",
       "      <td>92.380350</td>\n",
       "      <td>17.765452</td>\n",
       "      <td>250.0</td>\n",
       "      <td>3.748126</td>\n",
       "      <td>Buy</td>\n",
       "      <td>Binance</td>\n",
       "    </tr>\n",
       "  </tbody>\n",
       "</table>\n",
       "</div>"
      ],
      "text/plain": [
       "       Data   Coin  Preço (R$)  Preço (U$)  Preço Atual (R$)  \\\n",
       "0  19/04/24    BTC    334250.0    66850.00     363457.044599   \n",
       "1  19/04/24    ETH     15760.0     3152.00      19686.267078   \n",
       "2  19/04/24  MATIC         4.6        0.92          3.696202   \n",
       "3  19/04/24    SOL       677.1      135.42        865.051094   \n",
       "4  19/04/24   LINK        66.7       13.34         92.380350   \n",
       "\n",
       "   Preço Atual (U$)  Valor Investido (R$)         Qte Status Exchange  \n",
       "0      69895.585500                1000.0    0.002992    Buy  Binance  \n",
       "1       3785.820592                 500.0    0.031726    Buy  Binance  \n",
       "2          0.710808                1500.0  326.086957    Buy  Binance  \n",
       "3        166.355980                 250.0    0.369222    Buy  Binance  \n",
       "4         17.765452                 250.0    3.748126    Buy  Binance  "
      ]
     },
     "execution_count": 6,
     "metadata": {},
     "output_type": "execute_result"
    }
   ],
   "source": [
    "exchange_filtered.head()"
   ]
  },
  {
   "cell_type": "code",
   "execution_count": 7,
   "metadata": {},
   "outputs": [],
   "source": [
    "buy_rebuy_df = exchange_filtered[(exchange_filtered['Status'] == 'Buy') | (exchange_filtered['Status'] == 'Rebuy')]"
   ]
  },
  {
   "cell_type": "code",
   "execution_count": 25,
   "metadata": {},
   "outputs": [
    {
     "data": {
      "text/html": [
       "<div>\n",
       "<style scoped>\n",
       "    .dataframe tbody tr th:only-of-type {\n",
       "        vertical-align: middle;\n",
       "    }\n",
       "\n",
       "    .dataframe tbody tr th {\n",
       "        vertical-align: top;\n",
       "    }\n",
       "\n",
       "    .dataframe thead th {\n",
       "        text-align: right;\n",
       "    }\n",
       "</style>\n",
       "<table border=\"1\" class=\"dataframe\">\n",
       "  <thead>\n",
       "    <tr style=\"text-align: right;\">\n",
       "      <th></th>\n",
       "      <th>Coin</th>\n",
       "      <th>Qte</th>\n",
       "    </tr>\n",
       "  </thead>\n",
       "  <tbody>\n",
       "    <tr>\n",
       "      <th>0</th>\n",
       "      <td>AEVO</td>\n",
       "      <td>1.126571e+02</td>\n",
       "    </tr>\n",
       "    <tr>\n",
       "      <th>1</th>\n",
       "      <td>BTC</td>\n",
       "      <td>2.991773e-03</td>\n",
       "    </tr>\n",
       "    <tr>\n",
       "      <th>2</th>\n",
       "      <td>ETH</td>\n",
       "      <td>3.172589e-02</td>\n",
       "    </tr>\n",
       "    <tr>\n",
       "      <th>3</th>\n",
       "      <td>IMX</td>\n",
       "      <td>2.857143e+01</td>\n",
       "    </tr>\n",
       "    <tr>\n",
       "      <th>4</th>\n",
       "      <td>LINK</td>\n",
       "      <td>3.748126e+00</td>\n",
       "    </tr>\n",
       "    <tr>\n",
       "      <th>5</th>\n",
       "      <td>MATIC</td>\n",
       "      <td>3.260870e+02</td>\n",
       "    </tr>\n",
       "    <tr>\n",
       "      <th>6</th>\n",
       "      <td>PEPE</td>\n",
       "      <td>5.022831e+07</td>\n",
       "    </tr>\n",
       "    <tr>\n",
       "      <th>7</th>\n",
       "      <td>SHIB</td>\n",
       "      <td>6.383320e+07</td>\n",
       "    </tr>\n",
       "    <tr>\n",
       "      <th>8</th>\n",
       "      <td>SOL</td>\n",
       "      <td>3.692217e-01</td>\n",
       "    </tr>\n",
       "    <tr>\n",
       "      <th>9</th>\n",
       "      <td>VET</td>\n",
       "      <td>2.196195e+03</td>\n",
       "    </tr>\n",
       "  </tbody>\n",
       "</table>\n",
       "</div>"
      ],
      "text/plain": [
       "    Coin           Qte\n",
       "0   AEVO  1.126571e+02\n",
       "1    BTC  2.991773e-03\n",
       "2    ETH  3.172589e-02\n",
       "3    IMX  2.857143e+01\n",
       "4   LINK  3.748126e+00\n",
       "5  MATIC  3.260870e+02\n",
       "6   PEPE  5.022831e+07\n",
       "7   SHIB  6.383320e+07\n",
       "8    SOL  3.692217e-01\n",
       "9    VET  2.196195e+03"
      ]
     },
     "execution_count": 25,
     "metadata": {},
     "output_type": "execute_result"
    }
   ],
   "source": [
    "buy_rebuy_df = buy_rebuy_df.groupby('Coin')['Qte'].sum().reset_index()"
   ]
  },
  {
   "cell_type": "code",
   "execution_count": 26,
   "metadata": {},
   "outputs": [
    {
     "data": {
      "text/html": [
       "<div>\n",
       "<style scoped>\n",
       "    .dataframe tbody tr th:only-of-type {\n",
       "        vertical-align: middle;\n",
       "    }\n",
       "\n",
       "    .dataframe tbody tr th {\n",
       "        vertical-align: top;\n",
       "    }\n",
       "\n",
       "    .dataframe thead th {\n",
       "        text-align: right;\n",
       "    }\n",
       "</style>\n",
       "<table border=\"1\" class=\"dataframe\">\n",
       "  <thead>\n",
       "    <tr style=\"text-align: right;\">\n",
       "      <th></th>\n",
       "      <th>Coin</th>\n",
       "      <th>Qte</th>\n",
       "    </tr>\n",
       "  </thead>\n",
       "  <tbody>\n",
       "    <tr>\n",
       "      <th>0</th>\n",
       "      <td>PEPE</td>\n",
       "      <td>4.165021e+07</td>\n",
       "    </tr>\n",
       "  </tbody>\n",
       "</table>\n",
       "</div>"
      ],
      "text/plain": [
       "   Coin           Qte\n",
       "0  PEPE  4.165021e+07"
      ]
     },
     "execution_count": 26,
     "metadata": {},
     "output_type": "execute_result"
    }
   ],
   "source": [
    "sell_df = exchange_filtered[exchange_filtered['Status'] == 'Sell']\n",
    "sell_df = sell_df.groupby('Coin')['Qte'].sum().reset_index()\n",
    "sell_df"
   ]
  },
  {
   "cell_type": "code",
   "execution_count": 34,
   "metadata": {},
   "outputs": [],
   "source": [
    "for coin in coin_current_price.keys():\n",
    "    qte = 0.0\n",
    "    if coin in buy_rebuy_df['Coin'].values:\n",
    "        qte_buy = buy_rebuy_df.loc[buy_rebuy_df['Coin'] == coin]['Qte'].values[0]\n",
    "        qte += qte_buy\n",
    "    \n",
    "    if coin in sell_df['Coin'].values:\n",
    "        qte_sell = sell_df.loc[sell_df['Coin'] == coin]['Qte'].values[0]\n",
    "        qte -= qte_sell\n",
    "\n",
    "    coin_current_price[coin] = coin_current_price[coin] * qte"
   ]
  },
  {
   "cell_type": "code",
   "execution_count": 35,
   "metadata": {},
   "outputs": [
    {
     "data": {
      "text/plain": [
       "{'BTC': 1087.3808364955098,\n",
       " 'ETH': 624.564310840925,\n",
       " 'MATIC': 1205.2832444271833,\n",
       " 'SOL': 319.3956188776135,\n",
       " 'LINK': 346.253187582264,\n",
       " 'IMX': 338.49856287962905,\n",
       " 'SHIB': 7987.007930117598,\n",
       " 'PEPE': 643.4512877569438,\n",
       " 'AEVO': 557.021238785228,\n",
       " 'VET': 388.1981760046969}"
      ]
     },
     "execution_count": 35,
     "metadata": {},
     "output_type": "execute_result"
    }
   ],
   "source": [
    "coin_current_price"
   ]
  },
  {
   "cell_type": "code",
   "execution_count": 42,
   "metadata": {},
   "outputs": [
    {
     "data": {
      "text/plain": [
       "13497.05439376759"
      ]
     },
     "execution_count": 42,
     "metadata": {},
     "output_type": "execute_result"
    }
   ],
   "source": [
    "sum(coin_current_price.values())"
   ]
  },
  {
   "cell_type": "code",
   "execution_count": 47,
   "metadata": {},
   "outputs": [],
   "source": [
    "import pandas as pd"
   ]
  },
  {
   "cell_type": "code",
   "execution_count": 53,
   "metadata": {},
   "outputs": [],
   "source": [
    "exchange_filtered['Data'] = pd.to_datetime(exchange_filtered['Data'])\n",
    "rebase_df = exchange_filtered[8:]"
   ]
  },
  {
   "cell_type": "code",
   "execution_count": 56,
   "metadata": {},
   "outputs": [
    {
     "data": {
      "text/plain": [
       "9380.0"
      ]
     },
     "execution_count": 56,
     "metadata": {},
     "output_type": "execute_result"
    }
   ],
   "source": [
    "exchange_filtered[:8]['Valor Investido (R$)'].sum()"
   ]
  }
 ],
 "metadata": {
  "kernelspec": {
   "display_name": "Python 3",
   "language": "python",
   "name": "python3"
  },
  "language_info": {
   "codemirror_mode": {
    "name": "ipython",
    "version": 3
   },
   "file_extension": ".py",
   "mimetype": "text/x-python",
   "name": "python",
   "nbconvert_exporter": "python",
   "pygments_lexer": "ipython3",
   "version": "3.10.12"
  }
 },
 "nbformat": 4,
 "nbformat_minor": 2
}
